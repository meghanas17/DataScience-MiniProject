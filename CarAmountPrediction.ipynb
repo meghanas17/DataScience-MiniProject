import pandas as pd
import numpy as np
import matplotlib.pyplot as plt
import seaborn as sns
from sklearn.preprocessing import StandardScaler
from sklearn.model_selection import train_test_split
import tensorflow as tf
from tensorflow.keras.models import Sequential
from tensorflow.keras.layers import Dense

# Load dataset
car_df = pd.read_csv("Car_Purchasing_Data.csv", delimiter=",",encoding='ISO-8859-1')

# Visualize data
sns.pairplot(car_df)
plt.show()

# Prepare the data
X = car_df.drop(['Customer Name', 'Customer e-mail', 'Country', 'Car Purchase Amount'], axis=1)
y = car_df['Car Purchase Amount']

# Scale the data
scaler_X = StandardScaler()
scaler_y = StandardScaler()
X_scaled = scaler_X.fit_transform(X)
y_scaled = scaler_y.fit_transform(y.values.reshape(-1, 1))

# Split the data
X_train, X_test, y_train, y_test = train_test_split(X_scaled, y_scaled, test_size=0.25, random_state=42)

# Build the model
model = Sequential()
model.add(Dense(25, input_dim=5, activation='relu'))
model.add(Dense(25, activation='relu'))
model.add(Dense(1, activation='linear'))

# Compile the model
model.compile(optimizer='adam', loss='mean_squared_error')

# Train the model
hist = model.fit(X_train, y_train, epochs=50, validation_split=0.2, verbose=1)

# Plot training progress
plt.plot(hist.history['loss'])
plt.plot(hist.history['val_loss'])
plt.title('Model Loss Progress During Training')
plt.ylabel('Training and Validation Loss')
plt.xlabel('Number of Epochs')
plt.legend(['Training Loss', 'Validation Loss'])
plt.show()

# Prediction
X_test_sample = np.array([[1, 50, 25000, 10000, 600000]])
X_test_sample_scaled = scaler_X.transform(X_test_sample)
y_predict = model.predict(X_test_sample_scaled)
y_predict_original = scaler_y.inverse_transform(y_predict)
print('Expected Purchase Amount:', y_predict_original[0][0])
